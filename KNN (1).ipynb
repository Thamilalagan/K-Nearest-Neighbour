{
 "cells": [
  {
   "cell_type": "code",
   "execution_count": 1,
   "metadata": {},
   "outputs": [],
   "source": [
    "import matplotlib.pyplot as plt\n",
    "import numpy as np\n",
    "mean1= [4, 11]\n",
    "mean2 = [10, 3]\n",
    "cov1 = [[0.3, 0], [0, 0.3]]\n",
    "cov2 = [[1, 0], [0, 1]]"
   ]
  },
  {
   "cell_type": "code",
   "execution_count": 3,
   "metadata": {},
   "outputs": [
    {
     "data": {
      "text/plain": [
       "(100, 2)"
      ]
     },
     "execution_count": 3,
     "metadata": {},
     "output_type": "execute_result"
    }
   ],
   "source": [
    "data_1 = np.random.multivariate_normal(mean1, cov1, 50)\n",
    "data_2 = np.random.multivariate_normal(mean2, cov2, 50)\n",
    "data = np.concatenate((data_1, data_2), axis = 0)\n",
    "data.shape"
   ]
  },
  {
   "cell_type": "code",
   "execution_count": 4,
   "metadata": {},
   "outputs": [
    {
     "data": {
      "text/plain": [
       "array([[ 3.46793063, 11.23574292],\n",
       "       [ 2.37655376, 11.14035837],\n",
       "       [ 5.29836468, 10.95029542],\n",
       "       [ 3.02830804, 10.16245848],\n",
       "       [ 4.16074409, 10.63049865],\n",
       "       [ 3.37236758, 11.50447603],\n",
       "       [ 3.84370069, 10.46239704],\n",
       "       [ 3.65004236, 11.1333959 ],\n",
       "       [ 3.27950032, 10.7036319 ],\n",
       "       [ 3.76068938, 11.44080526],\n",
       "       [ 4.2021613 , 10.57949902],\n",
       "       [ 4.1594972 , 10.79633784],\n",
       "       [ 3.35857061, 10.71847491],\n",
       "       [ 3.91938104, 11.55436526],\n",
       "       [ 4.34819553, 11.53052587],\n",
       "       [ 4.03581856,  9.89880893],\n",
       "       [ 3.17053627, 10.53505442],\n",
       "       [ 4.15784935, 12.02968386],\n",
       "       [ 4.08439989, 10.37392634],\n",
       "       [ 3.82587632, 10.92270884],\n",
       "       [ 3.89456214,  9.97223147],\n",
       "       [ 4.47838118, 11.19980811],\n",
       "       [ 4.29969044, 10.37419193],\n",
       "       [ 4.89333611, 11.2034241 ],\n",
       "       [ 4.0880742 , 11.64579268],\n",
       "       [ 4.53970295, 10.48441856],\n",
       "       [ 4.45213038, 10.44596936],\n",
       "       [ 4.01065308, 10.57932443],\n",
       "       [ 4.7244365 , 11.029253  ],\n",
       "       [ 3.92527723, 11.60798706],\n",
       "       [ 4.51762227, 11.44116102],\n",
       "       [ 3.7726637 , 11.59527755],\n",
       "       [ 4.26505465, 11.24690857],\n",
       "       [ 3.79288712, 11.81890959],\n",
       "       [ 4.01378085, 10.37674194],\n",
       "       [ 3.7837712 , 11.20805617],\n",
       "       [ 5.1874721 , 11.05189423],\n",
       "       [ 3.92929072, 11.50470996],\n",
       "       [ 3.02437893, 11.61079253],\n",
       "       [ 4.80251364, 10.28375207],\n",
       "       [ 3.62769819, 10.31887819],\n",
       "       [ 3.91397817, 10.82076802],\n",
       "       [ 3.75126709, 10.26652353],\n",
       "       [ 3.99304396, 11.51479791],\n",
       "       [ 4.31345408, 11.37898765],\n",
       "       [ 2.97850711, 11.30625762],\n",
       "       [ 3.73599341, 10.48412964],\n",
       "       [ 3.88510061,  9.9118943 ],\n",
       "       [ 3.34951128, 11.85314009],\n",
       "       [ 4.18715212, 11.28127876]])"
      ]
     },
     "execution_count": 4,
     "metadata": {},
     "output_type": "execute_result"
    }
   ],
   "source": [
    "data_1"
   ]
  },
  {
   "cell_type": "code",
   "execution_count": 5,
   "metadata": {},
   "outputs": [
    {
     "data": {
      "text/plain": [
       "array([[10.07970495,  3.46040056],\n",
       "       [ 9.5594061 ,  3.36122894],\n",
       "       [10.56617594,  3.58958603],\n",
       "       [11.09023226,  4.3953569 ],\n",
       "       [10.89211281,  1.84678239],\n",
       "       [ 9.98973584,  4.48263791],\n",
       "       [10.49275432,  3.61449391],\n",
       "       [11.06503857,  3.80408366],\n",
       "       [11.61270931,  3.75850093],\n",
       "       [ 9.39891906,  4.14632472],\n",
       "       [ 9.340619  ,  4.21101163],\n",
       "       [ 9.42356045,  4.02143922],\n",
       "       [10.18161312,  2.6593846 ],\n",
       "       [10.14730631,  5.15433515],\n",
       "       [ 9.97860835,  2.28877249],\n",
       "       [ 8.68649689,  2.22243449],\n",
       "       [10.61792965,  2.84875469],\n",
       "       [11.68468299,  3.00099239],\n",
       "       [10.00898913,  3.39243852],\n",
       "       [ 9.59943795,  3.63812175],\n",
       "       [ 9.97559667,  3.26954023],\n",
       "       [ 9.33139316,  2.77419986],\n",
       "       [10.37652533,  3.29975815],\n",
       "       [10.10557531,  4.68318004],\n",
       "       [ 9.65416994,  4.01488704],\n",
       "       [ 9.02471598,  4.02512849],\n",
       "       [ 9.15760255,  2.23139033],\n",
       "       [ 8.67415816,  2.69723529],\n",
       "       [ 8.55296079,  1.31633405],\n",
       "       [ 9.15902864,  2.03700617],\n",
       "       [10.75662795,  2.02225658],\n",
       "       [ 9.64026563,  4.9976195 ],\n",
       "       [10.27640036,  4.21493424],\n",
       "       [10.10425375,  0.61475942],\n",
       "       [ 8.90075868,  2.91646319],\n",
       "       [10.30251045,  2.71196134],\n",
       "       [ 9.66871258,  2.63220409],\n",
       "       [11.62819391,  2.74354444],\n",
       "       [ 8.50344062,  2.63452979],\n",
       "       [10.92324946,  2.5592061 ],\n",
       "       [ 8.18702063,  1.33557716],\n",
       "       [10.44436419,  3.75345069],\n",
       "       [10.12272423,  2.34108906],\n",
       "       [12.1091808 ,  3.83136573],\n",
       "       [ 8.00135598,  3.25644472],\n",
       "       [ 9.38046094,  1.98986286],\n",
       "       [ 8.03450279,  2.0476519 ],\n",
       "       [11.3581749 ,  3.36226746],\n",
       "       [10.43778712,  3.0879327 ],\n",
       "       [11.20370557,  3.38350843]])"
      ]
     },
     "execution_count": 5,
     "metadata": {},
     "output_type": "execute_result"
    }
   ],
   "source": [
    "data_2"
   ]
  },
  {
   "cell_type": "code",
   "execution_count": 7,
   "metadata": {},
   "outputs": [
    {
     "data": {
      "text/plain": [
       "Text(0.5, 0, '$x_2$')"
      ]
     },
     "execution_count": 7,
     "metadata": {},
     "output_type": "execute_result"
    },
    {
     "data": {
      "image/png": "[encoded data removed]",
      "text/plain": [
       "<Figure size 432x288 with 1 Axes>"
      ]
     },
     "metadata": {
      "needs_background": "light"
     },
     "output_type": "display_data"
    }
   ],
   "source": [
    "from sklearn.cluster import KMeans\n",
    "model = KMeans(n_clusters=5).fit(data)\n",
    "plt.scatter(data[:,0], data[:,1], c=model.labels_.astype(float), s=15)\n",
    "plt.xlabel('$x_1$')\n",
    "plt.xlabel('$x_2$')"
   ]
  }
 ],
 "metadata": {
  "kernelspec": {
   "display_name": "Python 3",
   "language": "python",
   "name": "python3"
  },
  "language_info": {
   "codemirror_mode": {
    "name": "ipython",
    "version": 3
   },
   "file_extension": ".py",
   "mimetype": "text/x-python",
   "name": "python",
   "nbconvert_exporter": "python",
   "pygments_lexer": "ipython3",
   "version": "3.7.6"
  }
 },
 "nbformat": 4,
 "nbformat_minor": 4
}
